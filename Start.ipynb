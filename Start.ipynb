{
  "cells": [
    {
      "cell_type": "markdown",
      "metadata": {
        "colab_type": "text",
        "id": "view-in-github"
      },
      "source": [
        "<a href=\"https://colab.research.google.com/github/skyler-marks/ai-image-detection/blob/main/Start.ipynb\" target=\"_parent\"><img src=\"https://colab.research.google.com/assets/colab-badge.svg\" alt=\"Open In Colab\"/></a>"
      ]
    },
    {
      "cell_type": "code",
      "execution_count": null,
      "metadata": {
        "id": "rluASPSYq0si"
      },
      "outputs": [],
      "source": [
        "# ==========================\n",
        "# 1. Setup & Installations\n",
        "# ==========================\n",
        "!pip install timm torch torchvision pillow tqdm\n",
        "\n",
        "import timm\n",
        "import torch\n",
        "import torchvision.transforms as T\n",
        "from torch import nn\n",
        "from PIL import Image\n",
        "import numpy as np\n",
        "import os\n",
        "from tqdm import tqdm"
      ]
    },
    {
      "cell_type": "code",
      "execution_count": null,
      "metadata": {
        "id": "nwGFC9oEq5ST"
      },
      "outputs": [],
      "source": [
        "# ==========================\n",
        "# 2. Load ResNet18 (ImageNet pretrained)\n",
        "# ==========================\n",
        "import torchvision.models as models\n",
        "device = 'cuda' if torch.cuda.is_available() else 'cpu'\n",
        "\n",
        "\n",
        "model = models.resnet18(weights=models.ResNet18_Weights.IMAGENET1K_V1)\n",
        "model.fc = nn.Identity()   # remove classifier, output 512-D features\n",
        "model.eval()\n",
        "model.to(device)\n",
        "\n",
        "# Transformation for CIFAKE (32x32 -> 224x224 for ResNet)\n",
        "transform = T.Compose([\n",
        "    T.Resize((224, 224)),\n",
        "    T.ToTensor(),\n",
        "    T.Normalize((0.485, 0.456, 0.406), (0.229, 0.224, 0.225))  # ImageNet normalization\n",
        "])\n"
      ]
    },
    {
      "cell_type": "code",
      "execution_count": null,
      "metadata": {
        "id": "kXtt-7LUrCdG"
      },
      "outputs": [],
      "source": [
        "# ==========================\n",
        "# 4. Run Extraction for CIFAKE\n",
        "# ==========================\n",
        "!pip install kaggle\n",
        "\n",
        "\n",
        "# Download CIFAKE dataset\n",
        "!kaggle datasets download -d birdy654/cifake-real-and-ai-generated-synthetic-images\n",
        "!unzip cifake-real-and-ai-generated-synthetic-images.zip -d cifake\n"
      ]
    },
    {
      "cell_type": "code",
      "execution_count": null,
      "metadata": {
        "id": "HQ8-FvY9q8IQ"
      },
      "outputs": [],
      "source": [
        "# ==========================\n",
        "# 3. Feature Extraction Function\n",
        "# ==========================\n",
        "def extract_features(image_dir, output_file):\n",
        "    feats = []\n",
        "    files = sorted(os.listdir(image_dir))\n",
        "    for fname in tqdm(files[:1000]):  # limit to 1000 images for demo\n",
        "        path = os.path.join(image_dir, fname)\n",
        "        img = Image.open(path).convert('RGB')\n",
        "        x = transform(img).unsqueeze(0).to(device)\n",
        "        with torch.no_grad():\n",
        "            f = model(x).cpu().numpy()[0]\n",
        "        feats.append(f)\n",
        "    feats = np.array(feats)\n",
        "    np.save(output_file, feats)\n",
        "    print(f\"✅ Saved {feats.shape} to {output_file}\")\n"
      ]
    },
    {
      "cell_type": "code",
      "execution_count": null,
      "metadata": {
        "id": "J6PfcLDLrF6v"
      },
      "outputs": [],
      "source": [
        "for i in range(1, 11):\n",
        "    real_dir = \"cifake/train/REAL/cat_\" + str(i).zfill(2) \n",
        "    fake_dir = \"cifake/train/FAKE/cat_\" + str(i).zfill(2) \n",
        "    # Extract and save\n",
        "    extract_features(real_dir, \"real_features_\" + str(i).zfill(2) + \".npy\")\n",
        "    extract_features(fake_dir, \"fake_features_\" + str(i).zfill(2) + \".npy\")\n"
      ]
    },
    {
      "cell_type": "code",
      "execution_count": null,
      "metadata": {
        "id": "JC3CsJAdrJXO"
      },
      "outputs": [],
      "source": [
        "# ==========================\n",
        "# 1. Install and Import Libraries\n",
        "# ==========================\n",
        "!pip install ripser persim matplotlib numpy\n",
        "\n",
        "from ripser import ripser\n",
        "from persim import plot_diagrams\n",
        "import numpy as np\n",
        "import matplotlib.pyplot as plt\n",
        "\n",
        "# ==========================\n",
        "# 2. Load Feature Vectors\n",
        "# ==========================\n",
        "# Load the features you previously extracted with ResNet18\n",
        "m = 3\n",
        "real_feats_list = np.array([np.load(\"real_features_\" + str(i).zfill(2) +  \".npy\") for i in range(1, m+1)])\n",
        "fake_feats_list = np.array([np.load(\"fake_features_\" + str(i).zfill(2) +  \".npy\") for i in range(1, m+1)])\n",
        "# real_unreduced = np.array([np.load(\"real_features_unreduced_\" + str(i).zfill(2) +  \".npy\") for i in range(1, 4)])\n",
        "# fake_unreduced = np.array([np.load(\"fake_features_unreduced_\" + str(i).zfill(2) +  \".npy\") for i in range(1, 4)])\n",
        "\n",
        "# Optionally, sample to reduce computation\n",
        "n = 300   # choose 300 points for speed\n",
        "# real_sample = real_feats[np.random.choice(len(real_feats), size=n, replace=False)]\n",
        "# fake_sample = fake_feats[np.random.choice(len(fake_feats), size=n, replace=False)]\n",
        "\n",
        "# print(\"Real sample shape:\", real_sample.shape)\n",
        "# print(\"Fake sample shape:\", fake_sample.shape)\n",
        "# print(\"Real unreduced sample shape:\", real_unreduced.shape)\n",
        "# print(\"Fake unreduced sample shape:\", fake_unreduced.shape)\n",
        "\n",
        "# ==========================\n",
        "# 3. Combine Data for Joint Analysis\n",
        "# ==========================\n",
        "# X = np.vstack([real_sample, fake_sample])\n",
        "\n",
        "# Create labels (0 for real, 1 for fake)\n",
        "# labels = np.array([0]*len(real_sample) + [1]*len(fake_sample))\n",
        "\n"
      ]
    },
    {
      "cell_type": "code",
      "execution_count": null,
      "metadata": {},
      "outputs": [],
      "source": [
        "real_list = np.array([[item.flatten() for item in cat] for cat in real_feats_list])\n",
        "fake_list = np.array([[item.flatten() for item in cat] for cat in fake_feats_list])\n"
      ]
    },
    {
      "cell_type": "code",
      "execution_count": null,
      "metadata": {},
      "outputs": [],
      "source": [
        "from ripser import ripser\n",
        "print(\"Computing real sample:\")\n",
        "rip_real = [ripser(proc, do_cocycles=True, maxdim=2) for proc in real_list]\n",
        "dgms_real = [element['dgms'] for element in rip_real]"
      ]
    },
    {
      "cell_type": "code",
      "execution_count": null,
      "metadata": {},
      "outputs": [],
      "source": [
        "from ripser import ripser\n",
        "print(\"Computing fake sample:\")\n",
        "rip_fake = [ripser(proc, do_cocycles=True, maxdim=2) for proc in fake_list]\n",
        "\n",
        "dgms_real = [element['dgms'] for element in rip_fake]"
      ]
    },
    {
      "cell_type": "code",
      "execution_count": null,
      "metadata": {},
      "outputs": [],
      "source": [
        "print(rip_fake)"
      ]
    },
    {
      "cell_type": "code",
      "execution_count": null,
      "metadata": {},
      "outputs": [],
      "source": [
        "plot_diagrams(dgms_fake[0])\n",
        "plot_diagrams(dgms_real[0])"
      ]
    },
    {
      "cell_type": "code",
      "execution_count": null,
      "metadata": {},
      "outputs": [],
      "source": [
        "\n",
        "plot_diagrams(dgms_fake[1])\n",
        "plot_diagrams(dgms_real[1])"
      ]
    },
    {
      "cell_type": "code",
      "execution_count": null,
      "metadata": {},
      "outputs": [],
      "source": [
        "\n",
        "plot_diagrams(dgms_fake[2])\n",
        "plot_diagrams(dgms_real[2])"
      ]
    },
    {
      "cell_type": "code",
      "execution_count": null,
      "metadata": {
        "id": "tfPhOk3nrMDX"
      },
      "outputs": [],
      "source": [
        "import numpy as np\n",
        "import matplotlib.pyplot as plt\n",
        "\n",
        "def compute_betti_curve(diagrams, dim=0, resolution=200):\n",
        "    \"\"\"\n",
        "    Compute Betti curve for a given homology dimension from a persistence diagram.\n",
        "    - diagrams: list of persistence pairs from Ripser (dgms[dim])\n",
        "    - dim: 0 for connected components, 1 for loops, etc.\n",
        "    - resolution: number of scale steps\n",
        "    \"\"\"\n",
        "    dgms = diagrams[dim]\n",
        "    # Ignore points at infinity\n",
        "    dgms = dgms[np.isfinite(dgms[:, 1])]\n",
        "\n",
        "    # Define filtration scales\n",
        "    max_scale = np.max(dgms[:, 1])\n",
        "    scales = np.linspace(0, max_scale, resolution)\n",
        "    betti_vals = []\n",
        "\n",
        "    # Count number of features alive at each scale\n",
        "    for s in scales:\n",
        "        alive = np.sum((dgms[:, 0] <= s) & (dgms[:, 1] > s))\n",
        "        betti_vals.append(alive)\n",
        "\n",
        "    return scales, np.array(betti_vals)\n",
        "\n",
        "# ✅ Example: Plot Betti curves for Real and Fake latent spaces\n",
        "scales_r, betti_r = compute_betti_curve(dgms_real, dim=0)\n",
        "scales_f, betti_f = compute_betti_curve(dgms_fake, dim=0)\n",
        "\n",
        "plt.figure(figsize=(7,4))\n",
        "plt.plot(scales_r, betti_r, label=\"Real H0\", lw=2)\n",
        "plt.plot(scales_f, betti_f, label=\"Fake H0\", lw=2, ls=\"--\")\n",
        "plt.xlabel(\"Scale (ε)\")\n",
        "plt.ylabel(\"Betti-0 (# of connected components)\")\n",
        "plt.title(\"Betti Curves (Real vs Fake)\")\n",
        "plt.legend()\n",
        "plt.show()\n"
      ]
    },
    {
      "cell_type": "code",
      "execution_count": null,
      "metadata": {
        "id": "Fj50_laFrPyX"
      },
      "outputs": [],
      "source": [
        "scales_r1, betti_r1 = compute_betti_curve(dgms_real, dim=1)\n",
        "plt.plot(scales_r1, betti_r1, label=\"Real H1 (Loops)\")\n",
        "plt.legend(); plt.show()\n"
      ]
    },
    {
      "cell_type": "code",
      "execution_count": null,
      "metadata": {
        "id": "SucEhkEOrS9W"
      },
      "outputs": [],
      "source": [
        "# ✅ Compute Betti curves for both sets\n",
        "scales_r, betti_r = compute_betti_curve(dgms_real, dim=0)\n",
        "scales_f, betti_f = compute_betti_curve(dgms_fake, dim=0)\n",
        "\n",
        "# ✅ Plot together\n",
        "plt.figure(figsize=(8,4))\n",
        "plt.plot(scales_r, betti_r, label=\"Real H0\", lw=2, color=\"blue\")\n",
        "plt.plot(scales_f, betti_f, label=\"Fake H0\", lw=2, ls=\"--\", color=\"red\")\n",
        "plt.xlabel(\"Scale (ε)\")\n",
        "plt.ylabel(\"Betti-0 (# of components)\")\n",
        "plt.title(\"Betti Curves: Real vs Fake Latent Features\")\n",
        "plt.legend()\n",
        "plt.grid(True)\n",
        "plt.show()\n"
      ]
    },
    {
      "cell_type": "code",
      "execution_count": null,
      "metadata": {
        "id": "db7u7FotrVXx"
      },
      "outputs": [],
      "source": [
        "print(\"Real H0 pairs:\", dgms_real[0].shape)\n",
        "print(\"Fake H0 pairs:\", dgms_fake[0].shape)"
      ]
    },
    {
      "cell_type": "code",
      "execution_count": null,
      "metadata": {
        "id": "mlPokAymrZQE"
      },
      "outputs": [],
      "source": [
        "import numpy as np\n",
        "import matplotlib.pyplot as plt\n",
        "\n",
        "def compute_betti_curve(diagrams, dim=0, resolution=200):\n",
        "    \"\"\"\n",
        "    Compute Betti curve for a given homology dimension from Ripser diagrams.\n",
        "    - diagrams: result['dgms'] from ripser\n",
        "    - dim: 0 (components) or 1 (loops)\n",
        "    - resolution: number of scale steps\n",
        "    \"\"\"\n",
        "    dgms = diagrams[dim]\n",
        "    dgms = dgms[np.isfinite(dgms[:, 1])]  # remove infinite deaths\n",
        "\n",
        "    if len(dgms) == 0:  # handle empty diagrams\n",
        "        return np.array([0]), np.array([0])\n",
        "\n",
        "    max_scale = np.max(dgms[:, 1])\n",
        "    scales = np.linspace(0, max_scale, resolution)\n",
        "    betti_vals = []\n",
        "\n",
        "    for s in scales:\n",
        "        alive = np.sum((dgms[:, 0] <= s) & (dgms[:, 1] > s))\n",
        "        betti_vals.append(alive)\n",
        "\n",
        "    return scales, np.array(betti_vals)\n",
        "\n",
        "# ✅ Compute for both Real and Fake\n",
        "sc_r1_1, br1_1 = compute_betti_curve(dgms_real[0], dim=1)\n",
        "sc_f1_1, bf1_1 = compute_betti_curve(dgms_fake[0], dim=1)\n",
        "sc_r1_2, br1_2 = compute_betti_curve(dgms_real[1], dim=1)\n",
        "sc_f1_2, bf1_2 = compute_betti_curve(dgms_fake[1], dim=1)\n",
        "sc_r1_3, br1_3 = compute_betti_curve(dgms_real[2], dim=1)\n",
        "sc_f1_3, bf1_3 = compute_betti_curve(dgms_fake[2], dim=1)\n",
        "# sc_r2, br2 = compute_betti_curve(dgms_real, dim=2)\n",
        "# sc_f2, bf2 = compute_betti_curve(dgms_fake, dim=2)\n",
        "\n",
        "# ✅ Plot H0 (Connected Components)\n",
        "# plt.figure(figsize=(8,4))\n",
        "# plt.plot(sc_r0, br0, lw=2, label=\"Real H0\", color=\"blue\")\n",
        "# plt.plot(sc_f0, bf0, lw=2, ls=\"--\", label=\"Fake H0\", color=\"red\")\n",
        "# plt.xlabel(\"Scale (ε)\")\n",
        "# plt.ylabel(\"Betti-0 (# components)\")\n",
        "# plt.title(\"Betti Curves (H0): Real vs Fake\")\n",
        "# plt.legend()\n",
        "# plt.grid(True)\n",
        "# plt.show()\n",
        "\n",
        "# ✅ Plot H1 (Loops)\n",
        "plt.figure(figsize=(8,4))\n",
        "plt.plot(sc_r1_1, br1_1, lw=2, label=\"Real H1\", color=\"green\")\n",
        "plt.plot(sc_f1_1, bf1_1, lw=2, ls=\"--\", label=\"Fake H1\", color=\"orange\")\n",
        "plt.xlabel(\"Scale (ε)\")\n",
        "plt.ylabel(\"Betti-1 (# loops)\")\n",
        "plt.title(\"Betti Curves (H1): Real vs Fake\")\n",
        "plt.legend()\n",
        "plt.grid(True)\n",
        "plt.show()\n",
        "\n",
        "plt.figure(figsize=(8,4))\n",
        "plt.plot(sc_r1_2, br1_2, lw=2, label=\"Real H1\", color=\"green\")\n",
        "plt.plot(sc_f1_2, bf1_2, lw=2, ls=\"--\", label=\"Fake H1\", color=\"orange\")\n",
        "plt.xlabel(\"Scale (ε)\")\n",
        "plt.ylabel(\"Betti-1 (# loops)\")\n",
        "plt.title(\"Betti Curves (H1): Real vs Fake\")\n",
        "plt.legend()\n",
        "plt.grid(True)\n",
        "plt.show()\n",
        "\n",
        "plt.figure(figsize=(8,4))\n",
        "plt.plot(sc_r1_3, br1_3, lw=2, label=\"Real H1\", color=\"green\")\n",
        "plt.plot(sc_f1_3, bf1_3, lw=2, ls=\"--\", label=\"Fake H1\", color=\"orange\")\n",
        "plt.xlabel(\"Scale (ε)\")\n",
        "plt.ylabel(\"Betti-1 (# loops)\")\n",
        "plt.title(\"Betti Curves (H1): Real vs Fake\")\n",
        "plt.legend()\n",
        "plt.grid(True)\n",
        "plt.show()\n",
        "\n",
        "# ✅ Plot H2 (Loops)\n",
        "# plt.figure(figsize=(8,4))\n",
        "# plt.plot(sc_r2, br2, lw=2, label=\"Real H2\", color=\"green\")\n",
        "# plt.plot(sc_f2, bf2, lw=2, ls=\"--\", label=\"Fake H2\", color=\"orange\")\n",
        "# plt.xlabel(\"Scale (ε)\")\n",
        "# plt.ylabel(\"Betti-2 (# loops)\")\n",
        "# plt.title(\"Betti Curves (H2): Real vs Fake\")\n",
        "# plt.legend()\n",
        "# plt.grid(True)\n",
        "# plt.show()\n",
        "# \n",
        "# "
      ]
    },
    {
      "cell_type": "code",
      "execution_count": null,
      "metadata": {},
      "outputs": [],
      "source": []
    }
  ],
  "metadata": {
    "colab": {
      "include_colab_link": true,
      "provenance": []
    },
    "kernelspec": {
      "display_name": ".venv",
      "language": "python",
      "name": "python3"
    },
    "language_info": {
      "codemirror_mode": {
        "name": "ipython",
        "version": 3
      },
      "file_extension": ".py",
      "mimetype": "text/x-python",
      "name": "python",
      "nbconvert_exporter": "python",
      "pygments_lexer": "ipython3",
      "version": "3.13.5"
    }
  },
  "nbformat": 4,
  "nbformat_minor": 0
}
