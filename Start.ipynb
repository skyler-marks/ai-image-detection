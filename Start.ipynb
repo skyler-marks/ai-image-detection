{
  "nbformat": 4,
  "nbformat_minor": 0,
  "metadata": {
    "colab": {
      "provenance": [],
      "include_colab_link": true
    },
    "kernelspec": {
      "name": "python3",
      "display_name": "Python 3"
    },
    "language_info": {
      "name": "python"
    }
  },
  "cells": [
    {
      "cell_type": "markdown",
      "metadata": {
        "id": "view-in-github",
        "colab_type": "text"
      },
      "source": [
        "<a href=\"https://colab.research.google.com/github/skyler-marks/ai-image-detection/blob/main/Start.ipynb\" target=\"_parent\"><img src=\"https://colab.research.google.com/assets/colab-badge.svg\" alt=\"Open In Colab\"/></a>"
      ]
    },
    {
      "cell_type": "code",
      "execution_count": null,
      "metadata": {
        "id": "rluASPSYq0si"
      },
      "outputs": [],
      "source": [
        "# ==========================\n",
        "# 1. Setup & Installations\n",
        "# ==========================\n",
        "!pip install timm torch torchvision pillow tqdm\n",
        "\n",
        "import timm\n",
        "import torch\n",
        "import torchvision.transforms as T\n",
        "from torch import nn\n",
        "from PIL import Image\n",
        "import numpy as np\n",
        "import os\n",
        "from tqdm import tqdm"
      ]
    },
    {
      "cell_type": "code",
      "source": [
        "# ==========================\n",
        "# 2. Load ResNet18 (ImageNet pretrained)\n",
        "# ==========================\n",
        "import torchvision.models as models\n",
        "device = 'cuda' if torch.cuda.is_available() else 'cpu'\n",
        "\n",
        "\n",
        "model = models.resnet18(weights=models.ResNet18_Weights.IMAGENET1K_V1)\n",
        "model.fc = nn.Identity()   # remove classifier, output 512-D features\n",
        "model.eval()\n",
        "model.to(device)\n",
        "\n",
        "# Transformation for CIFAKE (32x32 -> 224x224 for ResNet)\n",
        "transform = T.Compose([\n",
        "    T.Resize((224, 224)),\n",
        "    T.ToTensor(),\n",
        "    T.Normalize((0.485, 0.456, 0.406), (0.229, 0.224, 0.225))  # ImageNet normalization\n",
        "])\n"
      ],
      "metadata": {
        "id": "nwGFC9oEq5ST"
      },
      "execution_count": null,
      "outputs": []
    },
    {
      "cell_type": "code",
      "source": [
        "# ==========================\n",
        "# 3. Feature Extraction Function\n",
        "# ==========================\n",
        "def extract_features(image_dir, output_file):\n",
        "    feats = []\n",
        "    files = sorted(os.listdir(image_dir))\n",
        "    for fname in tqdm(files[:1000]):  # limit to 1000 images for demo\n",
        "        path = os.path.join(image_dir, fname)\n",
        "        img = Image.open(path).convert('RGB')\n",
        "        x = transform(img).unsqueeze(0).to(device)\n",
        "        with torch.no_grad():\n",
        "            f = model(x).cpu().numpy()[0]\n",
        "        feats.append(f)\n",
        "    feats = np.array(feats)\n",
        "    np.save(output_file, feats)\n",
        "    print(f\"✅ Saved {feats.shape} to {output_file}\")\n"
      ],
      "metadata": {
        "id": "HQ8-FvY9q8IQ"
      },
      "execution_count": null,
      "outputs": []
    },
    {
      "cell_type": "code",
      "source": [
        "# ==========================\n",
        "# 4. Run Extraction for CIFAKE\n",
        "# ==========================\n",
        "!pip install kaggle\n",
        "from google.colab import files\n",
        "files.upload()  # upload your kaggle.json API key here\n",
        "\n",
        "!mkdir ~/.kaggle\n",
        "!cp kaggle.json ~/.kaggle/\n",
        "!chmod 600 ~/.kaggle/kaggle.json\n",
        "\n",
        "# Download CIFAKE dataset\n",
        "!kaggle datasets download -d birdy654/cifake-real-and-ai-generated-synthetic-images\n",
        "!unzip cifake-real-and-ai-generated-synthetic-images.zip -d cifake\n"
      ],
      "metadata": {
        "id": "kXtt-7LUrCdG"
      },
      "execution_count": null,
      "outputs": []
    },
    {
      "cell_type": "code",
      "source": [
        "real_dir = \"/content/cifake/train/REAL\"\n",
        "fake_dir = \"/content/cifake/train/FAKE\"\n",
        "\n",
        "\n",
        "# Extract and save\n",
        "extract_features(real_dir, \"real_features.npy\")\n",
        "extract_features(fake_dir, \"fake_features.npy\")\n"
      ],
      "metadata": {
        "id": "J6PfcLDLrF6v"
      },
      "execution_count": null,
      "outputs": []
    },
    {
      "cell_type": "code",
      "source": [
        "# ==========================\n",
        "# 1. Install and Import Libraries\n",
        "# ==========================\n",
        "!pip install ripser persim matplotlib numpy\n",
        "\n",
        "from ripser import ripser\n",
        "from persim import plot_diagrams\n",
        "import numpy as np\n",
        "import matplotlib.pyplot as plt\n",
        "\n",
        "# ==========================\n",
        "# 2. Load Feature Vectors\n",
        "# ==========================\n",
        "# Load the features you previously extracted with ResNet18\n",
        "real_feats = np.load(\"real_features.npy\")\n",
        "fake_feats = np.load(\"fake_features.npy\")\n",
        "\n",
        "# Optionally, sample to reduce computation\n",
        "n = 300   # choose 300 points for speed\n",
        "real_sample = real_feats[:n]\n",
        "fake_sample = fake_feats[:n]\n",
        "\n",
        "print(\"Real sample shape:\", real_sample.shape)\n",
        "print(\"Fake sample shape:\", fake_sample.shape)\n",
        "\n",
        "# ==========================\n",
        "# 3. Combine Data for Joint Analysis\n",
        "# ==========================\n",
        "X = np.vstack([real_sample, fake_sample])\n",
        "\n",
        "# Create labels (0 for real, 1 for fake)\n",
        "labels = np.array([0]*len(real_sample) + [1]*len(fake_sample))\n",
        "\n"
      ],
      "metadata": {
        "id": "JC3CsJAdrJXO"
      },
      "execution_count": null,
      "outputs": []
    },
    {
      "cell_type": "code",
      "source": [
        "import numpy as np\n",
        "import matplotlib.pyplot as plt\n",
        "\n",
        "def compute_betti_curve(diagrams, dim=0, resolution=200):\n",
        "    \"\"\"\n",
        "    Compute Betti curve for a given homology dimension from a persistence diagram.\n",
        "    - diagrams: list of persistence pairs from Ripser (dgms[dim])\n",
        "    - dim: 0 for connected components, 1 for loops, etc.\n",
        "    - resolution: number of scale steps\n",
        "    \"\"\"\n",
        "    dgms = diagrams[dim]\n",
        "    # Ignore points at infinity\n",
        "    dgms = dgms[np.isfinite(dgms[:, 1])]\n",
        "\n",
        "    # Define filtration scales\n",
        "    max_scale = np.max(dgms[:, 1])\n",
        "    scales = np.linspace(0, max_scale, resolution)\n",
        "    betti_vals = []\n",
        "\n",
        "    # Count number of features alive at each scale\n",
        "    for s in scales:\n",
        "        alive = np.sum((dgms[:, 0] <= s) & (dgms[:, 1] > s))\n",
        "        betti_vals.append(alive)\n",
        "\n",
        "    return scales, np.array(betti_vals)\n",
        "\n",
        "# ✅ Example: Plot Betti curves for Real and Fake latent spaces\n",
        "scales_r, betti_r = compute_betti_curve(dgms_real, dim=0)\n",
        "scales_f, betti_f = compute_betti_curve(dgms_fake, dim=0)\n",
        "\n",
        "plt.figure(figsize=(7,4))\n",
        "plt.plot(scales_r, betti_r, label=\"Real H0\", lw=2)\n",
        "plt.plot(scales_f, betti_f, label=\"Fake H0\", lw=2, ls=\"--\")\n",
        "plt.xlabel(\"Scale (ε)\")\n",
        "plt.ylabel(\"Betti-0 (# of connected components)\")\n",
        "plt.title(\"Betti Curves (Real vs Fake)\")\n",
        "plt.legend()\n",
        "plt.show()\n"
      ],
      "metadata": {
        "id": "tfPhOk3nrMDX"
      },
      "execution_count": null,
      "outputs": []
    },
    {
      "cell_type": "code",
      "source": [
        "scales_r1, betti_r1 = compute_betti_curve(dgms_real, dim=1)\n",
        "plt.plot(scales_r1, betti_r1, label=\"Real H1 (Loops)\")\n",
        "plt.legend(); plt.show()\n"
      ],
      "metadata": {
        "id": "Fj50_laFrPyX"
      },
      "execution_count": null,
      "outputs": []
    },
    {
      "cell_type": "code",
      "source": [
        "# ✅ Compute Betti curves for both sets\n",
        "scales_r, betti_r = compute_betti_curve(dgms_real, dim=0)\n",
        "scales_f, betti_f = compute_betti_curve(dgms_fake, dim=0)\n",
        "\n",
        "# ✅ Plot together\n",
        "plt.figure(figsize=(8,4))\n",
        "plt.plot(scales_r, betti_r, label=\"Real H0\", lw=2, color=\"blue\")\n",
        "plt.plot(scales_f, betti_f, label=\"Fake H0\", lw=2, ls=\"--\", color=\"red\")\n",
        "plt.xlabel(\"Scale (ε)\")\n",
        "plt.ylabel(\"Betti-0 (# of components)\")\n",
        "plt.title(\"Betti Curves: Real vs Fake Latent Features\")\n",
        "plt.legend()\n",
        "plt.grid(True)\n",
        "plt.show()\n"
      ],
      "metadata": {
        "id": "SucEhkEOrS9W"
      },
      "execution_count": null,
      "outputs": []
    },
    {
      "cell_type": "code",
      "source": [
        "print(\"Real H0 pairs:\", dgms_real[0].shape)\n",
        "print(\"Fake H0 pairs:\", dgms_fake[0].shape)"
      ],
      "metadata": {
        "id": "db7u7FotrVXx"
      },
      "execution_count": null,
      "outputs": []
    },
    {
      "cell_type": "code",
      "source": [
        "import numpy as np\n",
        "import matplotlib.pyplot as plt\n",
        "\n",
        "def compute_betti_curve(diagrams, dim=0, resolution=200):\n",
        "    \"\"\"\n",
        "    Compute Betti curve for a given homology dimension from Ripser diagrams.\n",
        "    - diagrams: result['dgms'] from ripser\n",
        "    - dim: 0 (components) or 1 (loops)\n",
        "    - resolution: number of scale steps\n",
        "    \"\"\"\n",
        "    dgms = diagrams[dim]\n",
        "    dgms = dgms[np.isfinite(dgms[:, 1])]  # remove infinite deaths\n",
        "\n",
        "    if len(dgms) == 0:  # handle empty diagrams\n",
        "        return np.array([0]), np.array([0])\n",
        "\n",
        "    max_scale = np.max(dgms[:, 1])\n",
        "    scales = np.linspace(0, max_scale, resolution)\n",
        "    betti_vals = []\n",
        "\n",
        "    for s in scales:\n",
        "        alive = np.sum((dgms[:, 0] <= s) & (dgms[:, 1] > s))\n",
        "        betti_vals.append(alive)\n",
        "\n",
        "    return scales, np.array(betti_vals)\n",
        "\n",
        "# ✅ Compute for both Real and Fake\n",
        "sc_r0, br0 = compute_betti_curve(dgms_real, dim=0)\n",
        "sc_f0, bf0 = compute_betti_curve(dgms_fake, dim=0)\n",
        "sc_r1, br1 = compute_betti_curve(dgms_real, dim=1)\n",
        "sc_f1, bf1 = compute_betti_curve(dgms_fake, dim=1)\n",
        "\n",
        "# ✅ Plot H0 (Connected Components)\n",
        "plt.figure(figsize=(8,4))\n",
        "plt.plot(sc_r0, br0, lw=2, label=\"Real H0\", color=\"blue\")\n",
        "plt.plot(sc_f0, bf0, lw=2, ls=\"--\", label=\"Fake H0\", color=\"red\")\n",
        "plt.xlabel(\"Scale (ε)\")\n",
        "plt.ylabel(\"Betti-0 (# components)\")\n",
        "plt.title(\"Betti Curves (H0): Real vs Fake\")\n",
        "plt.legend()\n",
        "plt.grid(True)\n",
        "plt.show()\n",
        "\n",
        "# ✅ Plot H1 (Loops)\n",
        "plt.figure(figsize=(8,4))\n",
        "plt.plot(sc_r1, br1, lw=2, label=\"Real H1\", color=\"green\")\n",
        "plt.plot(sc_f1, bf1, lw=2, ls=\"--\", label=\"Fake H1\", color=\"orange\")\n",
        "plt.xlabel(\"Scale (ε)\")\n",
        "plt.ylabel(\"Betti-1 (# loops)\")\n",
        "plt.title(\"Betti Curves (H1): Real vs Fake\")\n",
        "plt.legend()\n",
        "plt.grid(True)\n",
        "plt.show()\n"
      ],
      "metadata": {
        "id": "mlPokAymrZQE"
      },
      "execution_count": null,
      "outputs": []
    }
  ]
}