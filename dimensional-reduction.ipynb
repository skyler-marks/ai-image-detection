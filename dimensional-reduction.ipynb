{
 "cells": [
  {
   "cell_type": "code",
   "execution_count": 24,
   "id": "14879690",
   "metadata": {},
   "outputs": [
    {
     "name": "stderr",
     "output_type": "stream",
     "text": [
      "100%|██████████| 1000/1000 [00:00<00:00, 4320.12it/s]\n"
     ]
    },
    {
     "name": "stdout",
     "output_type": "stream",
     "text": [
      "✅ Saved (1000, 32, 32, 3) to real_features_no_process01.npy\n"
     ]
    },
    {
     "name": "stderr",
     "output_type": "stream",
     "text": [
      "100%|██████████| 1000/1000 [00:00<00:00, 5462.59it/s]\n"
     ]
    },
    {
     "name": "stdout",
     "output_type": "stream",
     "text": [
      "✅ Saved (1000, 32, 32, 3) to fake_features_no_process01.npy\n"
     ]
    },
    {
     "name": "stderr",
     "output_type": "stream",
     "text": [
      "100%|██████████| 1000/1000 [00:00<00:00, 5674.77it/s]\n"
     ]
    },
    {
     "name": "stdout",
     "output_type": "stream",
     "text": [
      "✅ Saved (1000, 32, 32, 3) to real_features_no_process02.npy\n"
     ]
    },
    {
     "name": "stderr",
     "output_type": "stream",
     "text": [
      "100%|██████████| 1000/1000 [00:00<00:00, 5523.54it/s]\n"
     ]
    },
    {
     "name": "stdout",
     "output_type": "stream",
     "text": [
      "✅ Saved (1000, 32, 32, 3) to fake_features_no_process02.npy\n"
     ]
    },
    {
     "name": "stderr",
     "output_type": "stream",
     "text": [
      "100%|██████████| 1000/1000 [00:00<00:00, 5510.77it/s]\n"
     ]
    },
    {
     "name": "stdout",
     "output_type": "stream",
     "text": [
      "✅ Saved (1000, 32, 32, 3) to real_features_no_process03.npy\n"
     ]
    },
    {
     "name": "stderr",
     "output_type": "stream",
     "text": [
      "100%|██████████| 1000/1000 [00:00<00:00, 5533.12it/s]\n"
     ]
    },
    {
     "name": "stdout",
     "output_type": "stream",
     "text": [
      "✅ Saved (1000, 32, 32, 3) to fake_features_no_process03.npy\n"
     ]
    },
    {
     "name": "stderr",
     "output_type": "stream",
     "text": [
      "100%|██████████| 1000/1000 [00:00<00:00, 5595.65it/s]\n"
     ]
    },
    {
     "name": "stdout",
     "output_type": "stream",
     "text": [
      "✅ Saved (1000, 32, 32, 3) to real_features_no_process04.npy\n"
     ]
    },
    {
     "name": "stderr",
     "output_type": "stream",
     "text": [
      "100%|██████████| 1000/1000 [00:00<00:00, 5463.28it/s]\n"
     ]
    },
    {
     "name": "stdout",
     "output_type": "stream",
     "text": [
      "✅ Saved (1000, 32, 32, 3) to fake_features_no_process04.npy\n"
     ]
    },
    {
     "name": "stderr",
     "output_type": "stream",
     "text": [
      "100%|██████████| 1000/1000 [00:00<00:00, 5233.09it/s]\n"
     ]
    },
    {
     "name": "stdout",
     "output_type": "stream",
     "text": [
      "✅ Saved (1000, 32, 32, 3) to real_features_no_process05.npy\n"
     ]
    },
    {
     "name": "stderr",
     "output_type": "stream",
     "text": [
      "100%|██████████| 1000/1000 [00:00<00:00, 5612.50it/s]\n"
     ]
    },
    {
     "name": "stdout",
     "output_type": "stream",
     "text": [
      "✅ Saved (1000, 32, 32, 3) to fake_features_no_process05.npy\n"
     ]
    },
    {
     "name": "stderr",
     "output_type": "stream",
     "text": [
      "100%|██████████| 1000/1000 [00:00<00:00, 5567.97it/s]\n"
     ]
    },
    {
     "name": "stdout",
     "output_type": "stream",
     "text": [
      "✅ Saved (1000, 32, 32, 3) to real_features_no_process06.npy\n"
     ]
    },
    {
     "name": "stderr",
     "output_type": "stream",
     "text": [
      "100%|██████████| 1000/1000 [00:00<00:00, 5563.69it/s]\n"
     ]
    },
    {
     "name": "stdout",
     "output_type": "stream",
     "text": [
      "✅ Saved (1000, 32, 32, 3) to fake_features_no_process06.npy\n"
     ]
    },
    {
     "name": "stderr",
     "output_type": "stream",
     "text": [
      "100%|██████████| 1000/1000 [00:00<00:00, 5546.73it/s]\n"
     ]
    },
    {
     "name": "stdout",
     "output_type": "stream",
     "text": [
      "✅ Saved (1000, 32, 32, 3) to real_features_no_process07.npy\n"
     ]
    },
    {
     "name": "stderr",
     "output_type": "stream",
     "text": [
      "100%|██████████| 1000/1000 [00:00<00:00, 5480.36it/s]\n"
     ]
    },
    {
     "name": "stdout",
     "output_type": "stream",
     "text": [
      "✅ Saved (1000, 32, 32, 3) to fake_features_no_process07.npy\n"
     ]
    },
    {
     "name": "stderr",
     "output_type": "stream",
     "text": [
      "100%|██████████| 1000/1000 [00:00<00:00, 5598.00it/s]\n"
     ]
    },
    {
     "name": "stdout",
     "output_type": "stream",
     "text": [
      "✅ Saved (1000, 32, 32, 3) to real_features_no_process08.npy\n"
     ]
    },
    {
     "name": "stderr",
     "output_type": "stream",
     "text": [
      "100%|██████████| 1000/1000 [00:00<00:00, 5695.76it/s]\n"
     ]
    },
    {
     "name": "stdout",
     "output_type": "stream",
     "text": [
      "✅ Saved (1000, 32, 32, 3) to fake_features_no_process08.npy\n"
     ]
    },
    {
     "name": "stderr",
     "output_type": "stream",
     "text": [
      "100%|██████████| 1000/1000 [00:00<00:00, 5630.55it/s]\n"
     ]
    },
    {
     "name": "stdout",
     "output_type": "stream",
     "text": [
      "✅ Saved (1000, 32, 32, 3) to real_features_no_process09.npy\n"
     ]
    },
    {
     "name": "stderr",
     "output_type": "stream",
     "text": [
      "100%|██████████| 1000/1000 [00:00<00:00, 5673.93it/s]\n"
     ]
    },
    {
     "name": "stdout",
     "output_type": "stream",
     "text": [
      "✅ Saved (1000, 32, 32, 3) to fake_features_no_process09.npy\n"
     ]
    },
    {
     "name": "stderr",
     "output_type": "stream",
     "text": [
      "100%|██████████| 1000/1000 [00:00<00:00, 5174.41it/s]\n"
     ]
    },
    {
     "name": "stdout",
     "output_type": "stream",
     "text": [
      "✅ Saved (1000, 32, 32, 3) to real_features_no_process10.npy\n"
     ]
    },
    {
     "name": "stderr",
     "output_type": "stream",
     "text": [
      "100%|██████████| 1000/1000 [00:00<00:00, 5661.49it/s]\n"
     ]
    },
    {
     "name": "stdout",
     "output_type": "stream",
     "text": [
      "✅ Saved (1000, 32, 32, 3) to fake_features_no_process10.npy\n"
     ]
    }
   ],
   "source": [
    "import os \n",
    "from tqdm import tqdm\n",
    "from PIL import Image\n",
    "\n",
    "def extract_features(image_dir, output_file):\n",
    "    feats = []\n",
    "    files = sorted(os.listdir(image_dir))\n",
    "    for fname in tqdm(files[:1000]):  # limit to 1000 images for demo\n",
    "        path = os.path.join(image_dir, fname)\n",
    "        img = Image.open(path).convert('RGB')\n",
    "        feats.append(img)\n",
    "    feats = np.array(feats)\n",
    "    np.save(output_file, feats)\n",
    "    print(f\"✅ Saved {feats.shape} to {output_file}\")\n",
    "\n",
    "\n",
    "for i in range(1, 11):\n",
    "    real_dir = \"cifake/train/REAL/cat_\" + str(i).zfill(2) \n",
    "    fake_dir = \"cifake/train/FAKE/cat_\" + str(i).zfill(2) \n",
    "    # Extract and save\n",
    "    extract_features(real_dir, \"real_features_no_process\" + str(i).zfill(2) + \".npy\")\n",
    "    extract_features(fake_dir, \"fake_features_no_process\" + str(i).zfill(2) + \".npy\")\n"
   ]
  },
  {
   "cell_type": "code",
   "execution_count": 47,
   "id": "c4388d17",
   "metadata": {},
   "outputs": [
    {
     "name": "stdout",
     "output_type": "stream",
     "text": [
      "(5000, 3072)\n"
     ]
    }
   ],
   "source": [
    "import numpy as np\n",
    "import matplotlib.pyplot as plt\n",
    "\n",
    "# ==========================\n",
    "# 2. Load Feature Vectors\n",
    "# ==========================\n",
    "# Load the features you previously extracted with ResNet18\n",
    "m = 5\n",
    "\n",
    "real_feats_list = np.array([np.load(\"real_features_no_process\" + str(i).zfill(2) +  \".npy\") for i in range(1, m+1)])\n",
    "fake_feats_list = np.array([np.load(\"fake_features_no_process\" + str(i).zfill(2) +  \".npy\") for i in range(1, m+1)])\n",
    "\n",
    "real_list = np.array([[item.flatten() for item in cat] for cat in real_feats_list]) # only if using unreduced\n",
    "fake_list = np.array([[item.flatten() for item in cat] for cat in fake_feats_list])\n",
    "\n",
    "real_feats = np.concatenate(real_list)\n",
    "fake_feats = np.concatenate(fake_list)\n",
    "print(real_feats.shape)"
   ]
  },
  {
   "cell_type": "code",
   "execution_count": 44,
   "id": "219985d2",
   "metadata": {},
   "outputs": [],
   "source": [
    "U_real, S_real, V_real = np.linalg.svd(real_feats)\n",
    "U_fake, S_fake, V_fake = np.linalg.svd(fake_feats)"
   ]
  },
  {
   "cell_type": "code",
   "execution_count": 52,
   "id": "09971cbf",
   "metadata": {},
   "outputs": [
    {
     "name": "stdout",
     "output_type": "stream",
     "text": [
      "3065\n",
      "3056\n"
     ]
    }
   ],
   "source": [
    "tol = 10\n",
    "# S_real[abs(S_real) < tol] = 0.0\n",
    "# S_fake[abs(S_fake) < tol] = 0.0\n",
    "print(np.linalg.matrix_rank(real_feats, tol=tol))\n",
    "print(np.linalg.matrix_rank(fake_feats, tol=tol))"
   ]
  },
  {
   "cell_type": "code",
   "execution_count": 57,
   "id": "e36dc23a",
   "metadata": {},
   "outputs": [
    {
     "data": {
      "text/plain": [
       "[]"
      ]
     },
     "execution_count": 57,
     "metadata": {},
     "output_type": "execute_result"
    },
    {
     "data": {
      "image/png": "[encoded data removed]",
      "text/plain": [
       "<Figure size 640x480 with 1 Axes>"
      ]
     },
     "metadata": {},
     "output_type": "display_data"
    }
   ],
   "source": [
    "plt.plot(S_real)\n",
    "plt.plot(S_fake)\n",
    "plt.semilogy()"
   ]
  }
 ],
 "metadata": {
  "kernelspec": {
   "display_name": ".venv",
   "language": "python",
   "name": "python3"
  },
  "language_info": {
   "codemirror_mode": {
    "name": "ipython",
    "version": 3
   },
   "file_extension": ".py",
   "mimetype": "text/x-python",
   "name": "python",
   "nbconvert_exporter": "python",
   "pygments_lexer": "ipython3",
   "version": "3.13.5"
  }
 },
 "nbformat": 4,
 "nbformat_minor": 5
}
